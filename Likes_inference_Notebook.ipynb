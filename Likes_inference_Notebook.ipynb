{
  "metadata": {
    "colab": {
      "provenance": [],
      "gpuType": "T4"
    },
    "kernelspec": {
      "name": "python3",
      "display_name": "Python 3",
      "language": "python"
    },
    "language_info": {
      "name": "python",
      "version": "3.10.12",
      "mimetype": "text/x-python",
      "codemirror_mode": {
        "name": "ipython",
        "version": 3
      },
      "pygments_lexer": "ipython3",
      "nbconvert_exporter": "python",
      "file_extension": ".py"
    },
    "accelerator": "GPU",
    "kaggle": {
      "accelerator": "gpu",
      "dataSources": [
        {
          "sourceId": 7201212,
          "sourceType": "datasetVersion",
          "datasetId": 4165472
        },
        {
          "sourceId": 7209889,
          "sourceType": "datasetVersion",
          "datasetId": 4171671
        },
        {
          "sourceId": 7210287,
          "sourceType": "datasetVersion",
          "datasetId": 4171959
        },
        {
          "sourceId": 7199440,
          "sourceType": "datasetVersion",
          "datasetId": 4164110
        },
        {
          "sourceId": 7210372,
          "sourceType": "datasetVersion",
          "datasetId": 4172032
        }
      ],
      "isInternetEnabled": true,
      "language": "python",
      "sourceType": "notebook",
      "isGpuEnabled": true
    }
  },
  "nbformat_minor": 0,
  "nbformat": 4,
  "cells": [
    {
      "cell_type": "markdown",
      "source": [
        "# Installing required libraries"
      ],
      "metadata": {
        "id": "yhCCiqf2lmn4"
      }
    },
    {
      "cell_type": "code",
      "source": [
        "!pip install tensorflow tensorflow-hub\n",
        "!pip install pandas\n",
        "!pip install torch"
      ],
      "metadata": {
        "id": "IGX5EiBNiyv8",
        "execution": {
          "iopub.status.busy": "2023-12-15T15:52:15.508693Z",
          "iopub.execute_input": "2023-12-15T15:52:15.509067Z",
          "iopub.status.idle": "2023-12-15T15:52:28.639729Z",
          "shell.execute_reply.started": "2023-12-15T15:52:15.509035Z",
          "shell.execute_reply": "2023-12-15T15:52:28.638515Z"
        },
        "trusted": true
      },
      "execution_count": null,
      "outputs": []
    },
    {
      "cell_type": "markdown",
      "source": [
        "# Loading Model for Likes Prediction"
      ],
      "metadata": {
        "id": "OjOeYPlOlItJ"
      }
    },
    {
      "cell_type": "code",
      "source": [
        "from tensorflow.keras.models import load_model\n",
        "model = load_model('/kaggle/working/likes_prediction.h5')"
      ],
      "metadata": {
        "id": "Gi8SPF1SlOwv"
      },
      "execution_count": null,
      "outputs": []
    },
    {
      "cell_type": "markdown",
      "source": [
        "# Text and Image Embeddings"
      ],
      "metadata": {
        "id": "7YMiSzrge4pD"
      }
    },
    {
      "cell_type": "code",
      "source": [
        "import tensorflow as tf\n",
        "import tensorflow_hub as hub\n",
        "\n",
        "def text_embedding_function(text_column):\n",
        "    embed = hub.load(\"https://tfhub.dev/google/universal-sentence-encoder/4\")\n",
        "    embeddings = embed(text_column)\n",
        "    return embeddings.numpy()"
      ],
      "metadata": {
        "id": "Z87o6sXrjTjo",
        "execution": {
          "iopub.status.busy": "2023-12-15T15:58:25.390431Z",
          "iopub.execute_input": "2023-12-15T15:58:25.390791Z",
          "iopub.status.idle": "2023-12-15T15:58:37.403015Z",
          "shell.execute_reply.started": "2023-12-15T15:58:25.390764Z",
          "shell.execute_reply": "2023-12-15T15:58:37.402081Z"
        },
        "trusted": true
      },
      "execution_count": null,
      "outputs": []
    },
    {
      "cell_type": "code",
      "source": [
        "import requests\n",
        "from io import BytesIO\n",
        "\n",
        "from tensorflow.keras.preprocessing import image\n",
        "from tensorflow.keras.applications.mobilenet_v2 import MobileNetV2, preprocess_input\n",
        "import numpy as np\n",
        "\n",
        "def image_embedding_function(image_link):\n",
        "    # Download the image from the web link\n",
        "    response = requests.get(image_link)\n",
        "    img = image.load_img(BytesIO(response.content), target_size=(224, 224))\n",
        "\n",
        "    # Preprocess the image\n",
        "    img_array = image.img_to_array(img)\n",
        "    img_array = np.expand_dims(img_array, axis=0)\n",
        "    img_array = preprocess_input(img_array)\n",
        "\n",
        "    # Load MobileNetV2 model\n",
        "    base_model = MobileNetV2(weights='imagenet', include_top=False)\n",
        "\n",
        "    # Get image features\n",
        "    img_features = base_model.predict(img_array)\n",
        "    img_features = np.mean(img_features, axis=(1, 2))  # Global average pooling\n",
        "\n",
        "    return img_features\n"
      ],
      "metadata": {
        "id": "k8zydkKejTbD",
        "execution": {
          "iopub.status.busy": "2023-12-15T15:58:49.366368Z",
          "iopub.execute_input": "2023-12-15T15:58:49.367338Z",
          "iopub.status.idle": "2023-12-15T15:58:49.376442Z",
          "shell.execute_reply.started": "2023-12-15T15:58:49.367291Z",
          "shell.execute_reply": "2023-12-15T15:58:49.375391Z"
        },
        "trusted": true
      },
      "execution_count": null,
      "outputs": []
    },
    {
      "cell_type": "code",
      "source": [
        "text_embeddings = np.concatenate([text_embedding_function(df['date']),\n",
        "                                  text_embedding_function(df['username']),\n",
        "                                  text_embedding_function(df['inferred company']),\n",
        "                                  text_embedding_function(df['content'])], axis=1)"
      ],
      "metadata": {
        "id": "_g-3CSTqjTTP",
        "execution": {
          "iopub.status.busy": "2023-12-15T15:58:55.934761Z",
          "iopub.execute_input": "2023-12-15T15:58:55.935168Z",
          "iopub.status.idle": "2023-12-15T15:59:48.645781Z",
          "shell.execute_reply.started": "2023-12-15T15:58:55.935136Z",
          "shell.execute_reply": "2023-12-15T15:59:48.644857Z"
        },
        "trusted": true
      },
      "execution_count": null,
      "outputs": []
    },
    {
      "cell_type": "code",
      "source": [
        "import re\n",
        "\n",
        "def extract_links(text):\n",
        "    url_pattern = r\"'(https?://\\S+)'\"\n",
        "    matches = re.findall(url_pattern, text)\n",
        "\n",
        "    return matches[0]\n",
        "\n",
        "text_with_links = \"[Video(thumbnailUrl='https://pbs.twimg.com/amplify_video_thumb/1227938886921457664/img/BLtuv_1o8Rq_Noq4.jpg', variants=[VideoVariant(contentType='video/mp4', url='https://video.twimg.com/amplify_video/1227938886921457664/vid/1280x720/SFx1sCgkIbUnZeKo.mp4?tag=13', bitrate=2176000), VideoVariant(contentType='video/mp4', url='https://video.twimg.com/amplify_video/1227938886921457664/vid/480x270/3ooUCNaXys5kdswT.mp4?tag=13', bitrate=288000), VideoVariant(contentType='video/mp4', url='https://video.twimg.com/amplify_video/1227938886921457664/vid/640x360/t7WbD3E2QlEc6jin.mp4?tag=13', bitrate=832000), VideoVariant(contentType='application/x-mpegURL', url='https://video.twimg.com/amplify_video/1227938886921457664/pl/fUfDdm_8MfySsDlF.m3u8?tag=13', bitrate=None)], duration=6.0, views=19829)]\"\n",
        "links = extract_links(text_with_links)\n",
        "\n",
        "print(links)\n"
      ],
      "metadata": {
        "colab": {
          "base_uri": "https://localhost:8080/"
        },
        "id": "4wSm2b4gdeUd",
        "outputId": "aad1021f-c24d-4bbd-8c8e-58ff00969e6f",
        "execution": {
          "iopub.status.busy": "2023-12-15T15:59:48.647572Z",
          "iopub.execute_input": "2023-12-15T15:59:48.647874Z",
          "iopub.status.idle": "2023-12-15T15:59:48.654371Z",
          "shell.execute_reply.started": "2023-12-15T15:59:48.647848Z",
          "shell.execute_reply": "2023-12-15T15:59:48.653396Z"
        },
        "trusted": true
      },
      "execution_count": null,
      "outputs": [
        {
          "name": "stdout",
          "text": "https://pbs.twimg.com/amplify_video_thumb/1227938886921457664/img/BLtuv_1o8Rq_Noq4.jpg\n",
          "output_type": "stream"
        }
      ]
    },
    {
      "cell_type": "code",
      "source": [
        "import numpy as np"
      ],
      "metadata": {
        "execution": {
          "iopub.status.busy": "2023-12-15T15:59:48.655539Z",
          "iopub.execute_input": "2023-12-15T15:59:48.655890Z",
          "iopub.status.idle": "2023-12-15T15:59:48.668669Z",
          "shell.execute_reply.started": "2023-12-15T15:59:48.655859Z",
          "shell.execute_reply": "2023-12-15T15:59:48.667846Z"
        },
        "trusted": true,
        "id": "yf_zg56gdROQ"
      },
      "execution_count": null,
      "outputs": []
    },
    {
      "cell_type": "code",
      "source": [
        "loaded_data = np.load('/kaggle/working/image_embeddings_test.npz')\n",
        "image_embeddings = loaded_data['embeddings']"
      ],
      "metadata": {
        "id": "5j4J3iKQdHYU",
        "execution": {
          "iopub.status.busy": "2023-12-15T16:35:31.242203Z",
          "iopub.execute_input": "2023-12-15T16:35:31.242992Z",
          "iopub.status.idle": "2023-12-15T16:35:31.267304Z",
          "shell.execute_reply.started": "2023-12-15T16:35:31.242957Z",
          "shell.execute_reply": "2023-12-15T16:35:31.266431Z"
        },
        "trusted": true
      },
      "execution_count": null,
      "outputs": []
    },
    {
      "cell_type": "code",
      "source": [
        "reshaped_image_embedding=[]\n",
        "reshaped_text_embedding=[]"
      ],
      "metadata": {
        "execution": {
          "iopub.status.busy": "2023-12-15T16:49:52.057348Z",
          "iopub.execute_input": "2023-12-15T16:49:52.058185Z",
          "iopub.status.idle": "2023-12-15T16:49:52.062293Z",
          "shell.execute_reply.started": "2023-12-15T16:49:52.058152Z",
          "shell.execute_reply": "2023-12-15T16:49:52.061263Z"
        },
        "trusted": true,
        "id": "-N8j52KhdROQ"
      },
      "execution_count": null,
      "outputs": []
    },
    {
      "cell_type": "code",
      "source": [
        "def input_format(text_embeddings):\n",
        "    for i in range(10000):\n",
        "        val=0\n",
        "        for j in text_embeddings[i]:\n",
        "            val+=j\n",
        "        reshaped_text_embedding.append(val)\n",
        "\n",
        "        reshaped_text_embedding=np.array(reshaped_text_embedding)\n",
        "        return reshaped_text_embedding"
      ],
      "metadata": {
        "execution": {
          "iopub.status.busy": "2023-12-15T17:02:21.863068Z",
          "iopub.execute_input": "2023-12-15T17:02:21.863797Z",
          "iopub.status.idle": "2023-12-15T17:02:21.869329Z",
          "shell.execute_reply.started": "2023-12-15T17:02:21.863763Z",
          "shell.execute_reply": "2023-12-15T17:02:21.868315Z"
        },
        "trusted": true,
        "id": "XHrlBq-2dROQ"
      },
      "execution_count": null,
      "outputs": []
    },
    {
      "cell_type": "code",
      "source": [
        "for i in range(3105):\n",
        "    val=0\n",
        "    for j in image_embeddings[i][0]:\n",
        "        val+=j\n",
        "    reshaped_image_embedding.append(val)"
      ],
      "metadata": {
        "execution": {
          "iopub.status.busy": "2023-12-15T17:06:48.083933Z",
          "iopub.execute_input": "2023-12-15T17:06:48.084667Z",
          "iopub.status.idle": "2023-12-15T17:06:49.840263Z",
          "shell.execute_reply.started": "2023-12-15T17:06:48.084637Z",
          "shell.execute_reply": "2023-12-15T17:06:49.839445Z"
        },
        "trusted": true,
        "id": "_zUfyKUJdROQ"
      },
      "execution_count": null,
      "outputs": []
    },
    {
      "cell_type": "code",
      "source": [
        "#reshaped_image_embedding=np.array(reshaped_image_embedding)\n",
        "reshaped_text_embedding=np.array(reshaped_text_embedding)"
      ],
      "metadata": {
        "execution": {
          "iopub.status.busy": "2023-12-15T16:50:10.916554Z",
          "iopub.execute_input": "2023-12-15T16:50:10.917380Z",
          "iopub.status.idle": "2023-12-15T16:50:10.924906Z",
          "shell.execute_reply.started": "2023-12-15T16:50:10.917338Z",
          "shell.execute_reply": "2023-12-15T16:50:10.923954Z"
        },
        "trusted": true,
        "id": "e7z3cb_0dROQ"
      },
      "execution_count": null,
      "outputs": []
    },
    {
      "cell_type": "code",
      "source": [
        "#reshaped_image_embedding=reshaped_image_embedding.reshape((10000,1))\n",
        "reshaped_text_embedding=reshaped_text_embedding.reshape((10000,1))"
      ],
      "metadata": {
        "execution": {
          "iopub.status.busy": "2023-12-15T16:50:30.546361Z",
          "iopub.execute_input": "2023-12-15T16:50:30.547029Z",
          "iopub.status.idle": "2023-12-15T16:50:30.551434Z",
          "shell.execute_reply.started": "2023-12-15T16:50:30.546995Z",
          "shell.execute_reply": "2023-12-15T16:50:30.550550Z"
        },
        "trusted": true,
        "id": "fXX6h5g0dROQ"
      },
      "execution_count": null,
      "outputs": []
    },
    {
      "cell_type": "code",
      "source": [
        "reshaped_image_embedding.shape"
      ],
      "metadata": {
        "execution": {
          "iopub.status.busy": "2023-12-15T16:18:18.597729Z",
          "iopub.execute_input": "2023-12-15T16:18:18.598656Z",
          "iopub.status.idle": "2023-12-15T16:18:18.605266Z",
          "shell.execute_reply.started": "2023-12-15T16:18:18.598615Z",
          "shell.execute_reply": "2023-12-15T16:18:18.604114Z"
        },
        "trusted": true,
        "id": "LFX_8JIldROQ",
        "outputId": "204cea3b-bf6b-4bf1-d205-2300b24511d4"
      },
      "execution_count": null,
      "outputs": [
        {
          "execution_count": 45,
          "output_type": "execute_result",
          "data": {
            "text/plain": "(3105, 1)"
          },
          "metadata": {}
        }
      ]
    },
    {
      "cell_type": "code",
      "source": [
        "combined_embeddings = reshaped_image_embedding+reshaped_text_embedding"
      ],
      "metadata": {
        "id": "D-6vrmzlevCl",
        "execution": {
          "iopub.status.busy": "2023-12-15T16:18:23.313296Z",
          "iopub.execute_input": "2023-12-15T16:18:23.314087Z",
          "iopub.status.idle": "2023-12-15T16:18:23.318473Z",
          "shell.execute_reply.started": "2023-12-15T16:18:23.314050Z",
          "shell.execute_reply": "2023-12-15T16:18:23.317292Z"
        },
        "trusted": true
      },
      "execution_count": null,
      "outputs": []
    },
    {
      "cell_type": "code",
      "source": [
        "combined_embeddings.shape"
      ],
      "metadata": {
        "execution": {
          "iopub.status.busy": "2023-12-15T16:18:27.267859Z",
          "iopub.execute_input": "2023-12-15T16:18:27.268635Z",
          "iopub.status.idle": "2023-12-15T16:18:27.274911Z",
          "shell.execute_reply.started": "2023-12-15T16:18:27.268602Z",
          "shell.execute_reply": "2023-12-15T16:18:27.273951Z"
        },
        "trusted": true,
        "id": "hZfsZvWedROR",
        "outputId": "42499e62-4585-4c68-98df-d742618bcc79"
      },
      "execution_count": null,
      "outputs": [
        {
          "execution_count": 47,
          "output_type": "execute_result",
          "data": {
            "text/plain": "(3105, 1)"
          },
          "metadata": {}
        }
      ]
    },
    {
      "cell_type": "code",
      "source": [
        "import numpy as np\n",
        "output_file = '/kaggle/working/image_embeddings_cluster_18.npz'\n",
        "np.savez(output_file, embeddings=image_embeddings)\n"
      ],
      "metadata": {
        "execution": {
          "iopub.status.busy": "2023-12-15T16:18:52.357269Z",
          "iopub.execute_input": "2023-12-15T16:18:52.358045Z",
          "iopub.status.idle": "2023-12-15T16:18:52.389615Z",
          "shell.execute_reply.started": "2023-12-15T16:18:52.358010Z",
          "shell.execute_reply": "2023-12-15T16:18:52.388628Z"
        },
        "trusted": true,
        "id": "olYJYiUidROR"
      },
      "execution_count": null,
      "outputs": []
    },
    {
      "cell_type": "markdown",
      "source": [
        "# Predicting likes for test dataset"
      ],
      "metadata": {
        "id": "ioQ4lQwkfE1Y"
      }
    },
    {
      "cell_type": "code",
      "source": [
        "df = pd.read_excel('/kaggle/input/adobe-test-dataset/behaviour_simulation_test_time.xlsx')\n",
        "df.to_csv('behaviour_simulation_test_time.csv', index=False)\n",
        "test_data=pd.read_csv('behaviour_simulation_test_time.csv')\n",
        "\n",
        "test_df = pd.DataFrame(test_data)"
      ],
      "metadata": {
        "execution": {
          "iopub.status.busy": "2023-12-15T16:06:58.683082Z",
          "iopub.execute_input": "2023-12-15T16:06:58.683850Z",
          "iopub.status.idle": "2023-12-15T16:07:01.867253Z",
          "shell.execute_reply.started": "2023-12-15T16:06:58.683791Z",
          "shell.execute_reply": "2023-12-15T16:07:01.866220Z"
        },
        "trusted": true,
        "id": "DM_Jtty0dROS"
      },
      "execution_count": null,
      "outputs": []
    },
    {
      "cell_type": "code",
      "source": [
        "test_df"
      ],
      "metadata": {
        "execution": {
          "iopub.status.busy": "2023-12-15T16:32:29.371447Z",
          "iopub.execute_input": "2023-12-15T16:32:29.371874Z",
          "iopub.status.idle": "2023-12-15T16:32:29.387710Z",
          "shell.execute_reply.started": "2023-12-15T16:32:29.371836Z",
          "shell.execute_reply": "2023-12-15T16:32:29.386675Z"
        },
        "trusted": true,
        "id": "DGjimTtGdROS",
        "outputId": "780704a1-c5bc-4d42-dfe7-64285d384d19"
      },
      "execution_count": null,
      "outputs": [
        {
          "execution_count": 55,
          "output_type": "execute_result",
          "data": {
            "text/plain": "         id                 date  \\\n0         1  2021-11-08 00:40:49   \n1         2  2021-05-09 07:51:21   \n2         3  2022-11-22 05:30:05   \n3         4  2021-09-22 21:52:08   \n4         5  2022-04-15 13:00:27   \n...     ...                  ...   \n9995   9996  2021-04-27 11:28:28   \n9996   9997  2021-10-10 10:08:29   \n9997   9998  2022-10-15 05:13:00   \n9998   9999  2022-05-26 00:42:30   \n9999  10000  2022-11-04 19:28:16   \n\n                                                content        username  \\\n0     Andres, a Pharmacy Manager at Store 4669 in Pi...    WalmartWorld   \n1     Happy #EuropeDay! We are always stronger by wo...   SimonHarrisTD   \n2     Election Results, BVAS Report Established Over...  IndependentNGR   \n3     American Olympic swimmer Elizabeth Beisel will...     CBCOlympics   \n4     No need to hunt ‘em or hope to find ‘em in a b...    TimHortonsUS   \n...                                                 ...             ...   \n9995  𝐊𝐚𝐢𝐳𝐞𝐧 - The essence of continuous improvement...         TGR_WEC   \n9996  JACK'S BACK! 🤩\\n\\nBest of luck to our Reserve ...  WilliamsRacing   \n9997  [Special Saturday Hearing in #SupremeCourt]\\n\\...     barandbench   \n9998  Obama has crossed the line. Don’t make this re...      w_terrence   \n9999                       whats their sign <hyperlink>  SydDivineTarot   \n\n                                                  media inferred company  \n0     [Photo(previewUrl='https://pbs.twimg.com/media...          walmart  \n1     [Photo(previewUrl='https://pbs.twimg.com/media...               td  \n2     [Photo(previewUrl='https://pbs.twimg.com/media...      independent  \n3     [Photo(previewUrl='https://pbs.twimg.com/media...              cbc  \n4     [Photo(previewUrl='https://pbs.twimg.com/media...      tim hortons  \n...                                                 ...              ...  \n9995  [Video(thumbnailUrl='https://pbs.twimg.com/ext...           toyota  \n9996  [Photo(previewUrl='https://pbs.twimg.com/media...         williams  \n9997  [Photo(previewUrl='https://pbs.twimg.com/media...              bar  \n9998  [Photo(previewUrl='https://pbs.twimg.com/media...         williams  \n9999  [Photo(previewUrl='https://pbs.twimg.com/media...           oracle  \n\n[10000 rows x 6 columns]",
            "text/html": "<div>\n<style scoped>\n    .dataframe tbody tr th:only-of-type {\n        vertical-align: middle;\n    }\n\n    .dataframe tbody tr th {\n        vertical-align: top;\n    }\n\n    .dataframe thead th {\n        text-align: right;\n    }\n</style>\n<table border=\"1\" class=\"dataframe\">\n  <thead>\n    <tr style=\"text-align: right;\">\n      <th></th>\n      <th>id</th>\n      <th>date</th>\n      <th>content</th>\n      <th>username</th>\n      <th>media</th>\n      <th>inferred company</th>\n    </tr>\n  </thead>\n  <tbody>\n    <tr>\n      <th>0</th>\n      <td>1</td>\n      <td>2021-11-08 00:40:49</td>\n      <td>Andres, a Pharmacy Manager at Store 4669 in Pi...</td>\n      <td>WalmartWorld</td>\n      <td>[Photo(previewUrl='https://pbs.twimg.com/media...</td>\n      <td>walmart</td>\n    </tr>\n    <tr>\n      <th>1</th>\n      <td>2</td>\n      <td>2021-05-09 07:51:21</td>\n      <td>Happy #EuropeDay! We are always stronger by wo...</td>\n      <td>SimonHarrisTD</td>\n      <td>[Photo(previewUrl='https://pbs.twimg.com/media...</td>\n      <td>td</td>\n    </tr>\n    <tr>\n      <th>2</th>\n      <td>3</td>\n      <td>2022-11-22 05:30:05</td>\n      <td>Election Results, BVAS Report Established Over...</td>\n      <td>IndependentNGR</td>\n      <td>[Photo(previewUrl='https://pbs.twimg.com/media...</td>\n      <td>independent</td>\n    </tr>\n    <tr>\n      <th>3</th>\n      <td>4</td>\n      <td>2021-09-22 21:52:08</td>\n      <td>American Olympic swimmer Elizabeth Beisel will...</td>\n      <td>CBCOlympics</td>\n      <td>[Photo(previewUrl='https://pbs.twimg.com/media...</td>\n      <td>cbc</td>\n    </tr>\n    <tr>\n      <th>4</th>\n      <td>5</td>\n      <td>2022-04-15 13:00:27</td>\n      <td>No need to hunt ‘em or hope to find ‘em in a b...</td>\n      <td>TimHortonsUS</td>\n      <td>[Photo(previewUrl='https://pbs.twimg.com/media...</td>\n      <td>tim hortons</td>\n    </tr>\n    <tr>\n      <th>...</th>\n      <td>...</td>\n      <td>...</td>\n      <td>...</td>\n      <td>...</td>\n      <td>...</td>\n      <td>...</td>\n    </tr>\n    <tr>\n      <th>9995</th>\n      <td>9996</td>\n      <td>2021-04-27 11:28:28</td>\n      <td>𝐊𝐚𝐢𝐳𝐞𝐧 - The essence of continuous improvement...</td>\n      <td>TGR_WEC</td>\n      <td>[Video(thumbnailUrl='https://pbs.twimg.com/ext...</td>\n      <td>toyota</td>\n    </tr>\n    <tr>\n      <th>9996</th>\n      <td>9997</td>\n      <td>2021-10-10 10:08:29</td>\n      <td>JACK'S BACK! 🤩\\n\\nBest of luck to our Reserve ...</td>\n      <td>WilliamsRacing</td>\n      <td>[Photo(previewUrl='https://pbs.twimg.com/media...</td>\n      <td>williams</td>\n    </tr>\n    <tr>\n      <th>9997</th>\n      <td>9998</td>\n      <td>2022-10-15 05:13:00</td>\n      <td>[Special Saturday Hearing in #SupremeCourt]\\n\\...</td>\n      <td>barandbench</td>\n      <td>[Photo(previewUrl='https://pbs.twimg.com/media...</td>\n      <td>bar</td>\n    </tr>\n    <tr>\n      <th>9998</th>\n      <td>9999</td>\n      <td>2022-05-26 00:42:30</td>\n      <td>Obama has crossed the line. Don’t make this re...</td>\n      <td>w_terrence</td>\n      <td>[Photo(previewUrl='https://pbs.twimg.com/media...</td>\n      <td>williams</td>\n    </tr>\n    <tr>\n      <th>9999</th>\n      <td>10000</td>\n      <td>2022-11-04 19:28:16</td>\n      <td>whats their sign &lt;hyperlink&gt;</td>\n      <td>SydDivineTarot</td>\n      <td>[Photo(previewUrl='https://pbs.twimg.com/media...</td>\n      <td>oracle</td>\n    </tr>\n  </tbody>\n</table>\n<p>10000 rows × 6 columns</p>\n</div>"
          },
          "metadata": {}
        }
      ]
    },
    {
      "cell_type": "code",
      "source": [
        "text_embeddings_time = np.concatenate([text_embedding_function(test_df['date']),\n",
        "                                  text_embedding_function(test_df['username']),\n",
        "                                  text_embedding_function(test_df['inferred company']),\n",
        "                                  text_embedding_function(test_df['content'])], axis=1)"
      ],
      "metadata": {
        "execution": {
          "iopub.status.busy": "2023-12-15T16:32:40.798786Z",
          "iopub.execute_input": "2023-12-15T16:32:40.799732Z",
          "iopub.status.idle": "2023-12-15T16:33:02.777727Z",
          "shell.execute_reply.started": "2023-12-15T16:32:40.799697Z",
          "shell.execute_reply": "2023-12-15T16:33:02.776679Z"
        },
        "trusted": true,
        "id": "7jhIo09ldROS"
      },
      "execution_count": null,
      "outputs": []
    },
    {
      "cell_type": "code",
      "source": [
        "X_test_time = input_format(text_embeddings_time)"
      ],
      "metadata": {
        "execution": {
          "iopub.status.busy": "2023-12-15T16:44:57.296902Z",
          "iopub.execute_input": "2023-12-15T16:44:57.297332Z",
          "iopub.status.idle": "2023-12-15T16:44:57.302104Z",
          "shell.execute_reply.started": "2023-12-15T16:44:57.297296Z",
          "shell.execute_reply": "2023-12-15T16:44:57.301077Z"
        },
        "trusted": true,
        "id": "T5ZFWrRPdROS"
      },
      "execution_count": null,
      "outputs": []
    },
    {
      "cell_type": "code",
      "source": [
        "y_pred = model.predict(X_test_time)"
      ],
      "metadata": {
        "id": "K1PEwuc6lObd",
        "execution": {
          "iopub.status.busy": "2023-12-15T16:45:00.826401Z",
          "iopub.execute_input": "2023-12-15T16:45:00.827349Z",
          "iopub.status.idle": "2023-12-15T16:45:01.754167Z",
          "shell.execute_reply.started": "2023-12-15T16:45:00.827312Z",
          "shell.execute_reply": "2023-12-15T16:45:01.753303Z"
        },
        "trusted": true,
        "outputId": "0d465018-94aa-40dc-f0db-d03251b74ca2"
      },
      "execution_count": null,
      "outputs": [
        {
          "name": "stdout",
          "text": "313/313 [==============================] - 1s 2ms/step\n",
          "output_type": "stream"
        }
      ]
    },
    {
      "cell_type": "code",
      "source": [
        "y_pred=y_pred.reshape(-1)"
      ],
      "metadata": {
        "execution": {
          "iopub.status.busy": "2023-12-15T16:45:10.048265Z",
          "iopub.execute_input": "2023-12-15T16:45:10.048624Z",
          "iopub.status.idle": "2023-12-15T16:45:10.053240Z",
          "shell.execute_reply.started": "2023-12-15T16:45:10.048594Z",
          "shell.execute_reply": "2023-12-15T16:45:10.052225Z"
        },
        "trusted": true,
        "id": "v6cJTaFJdROV"
      },
      "execution_count": null,
      "outputs": []
    },
    {
      "cell_type": "code",
      "source": [
        "y_pred"
      ],
      "metadata": {
        "execution": {
          "iopub.status.busy": "2023-12-15T16:45:14.131729Z",
          "iopub.execute_input": "2023-12-15T16:45:14.132160Z",
          "iopub.status.idle": "2023-12-15T16:45:14.139646Z",
          "shell.execute_reply.started": "2023-12-15T16:45:14.132128Z",
          "shell.execute_reply": "2023-12-15T16:45:14.138572Z"
        },
        "trusted": true,
        "id": "3HURX7o9dROV",
        "outputId": "3f1651a9-f579-430a-abc6-bdd5e2715714"
      },
      "execution_count": null,
      "outputs": [
        {
          "execution_count": 75,
          "output_type": "execute_result",
          "data": {
            "text/plain": "array([0.7145476 , 0.5932815 , 0.3918623 , ..., 0.4416125 , 0.6270305 ,\n       0.60417193], dtype=float32)"
          },
          "metadata": {}
        }
      ]
    },
    {
      "cell_type": "code",
      "source": [
        "# mse=0\n",
        "# idx=0\n",
        "# for i in y_test:\n",
        "#     mse+=(i-y_pred[idx])*(i-y_pred[idx])\n",
        "#     idx+=1\n",
        "# mse=mse/len(y_test)"
      ],
      "metadata": {
        "execution": {
          "iopub.status.busy": "2023-12-15T16:20:04.733658Z",
          "iopub.execute_input": "2023-12-15T16:20:04.734056Z",
          "iopub.status.idle": "2023-12-15T16:20:04.745548Z",
          "shell.execute_reply.started": "2023-12-15T16:20:04.734024Z",
          "shell.execute_reply": "2023-12-15T16:20:04.744505Z"
        },
        "trusted": true,
        "id": "mSSoJcsfdROV"
      },
      "execution_count": null,
      "outputs": []
    },
    {
      "cell_type": "code",
      "source": [
        "mse"
      ],
      "metadata": {
        "execution": {
          "iopub.status.busy": "2023-12-15T16:20:09.718505Z",
          "iopub.execute_input": "2023-12-15T16:20:09.719357Z",
          "iopub.status.idle": "2023-12-15T16:20:09.725340Z",
          "shell.execute_reply.started": "2023-12-15T16:20:09.719322Z",
          "shell.execute_reply": "2023-12-15T16:20:09.724299Z"
        },
        "trusted": true,
        "id": "-P5qYdDedROV"
      },
      "execution_count": null,
      "outputs": []
    },
    {
      "cell_type": "code",
      "source": [
        "df = pd.read_excel('/kaggle/input/adobe-test-dataset/behaviour_simulation_test_company.xlsx')\n",
        "df.to_csv('behaviour_simulation_test_company.csv', index=False)\n",
        "test_data=pd.read_csv('behaviour_simulation_test_company.csv')\n",
        "\n",
        "test_df2 = pd.DataFrame(test_data)"
      ],
      "metadata": {
        "execution": {
          "iopub.status.busy": "2023-12-15T16:46:23.742022Z",
          "iopub.execute_input": "2023-12-15T16:46:23.742926Z",
          "iopub.status.idle": "2023-12-15T16:46:26.261553Z",
          "shell.execute_reply.started": "2023-12-15T16:46:23.742893Z",
          "shell.execute_reply": "2023-12-15T16:46:26.260769Z"
        },
        "trusted": true,
        "id": "tiqq-xiudROV"
      },
      "execution_count": null,
      "outputs": []
    },
    {
      "cell_type": "code",
      "source": [
        "test_df2"
      ],
      "metadata": {
        "execution": {
          "iopub.status.busy": "2023-12-15T16:47:25.517048Z",
          "iopub.execute_input": "2023-12-15T16:47:25.517784Z",
          "iopub.status.idle": "2023-12-15T16:47:25.531777Z",
          "shell.execute_reply.started": "2023-12-15T16:47:25.517752Z",
          "shell.execute_reply": "2023-12-15T16:47:25.530858Z"
        },
        "trusted": true,
        "id": "nRN5I1m7dROW",
        "outputId": "2f6d01ab-0275-4376-c902-e81e39989ad5"
      },
      "execution_count": null,
      "outputs": [
        {
          "execution_count": 79,
          "output_type": "execute_result",
          "data": {
            "text/plain": "         id                 date  \\\n0         1  2019-01-08 18:03:10   \n1         2  2018-01-29 10:51:17   \n2         3  2019-09-05 07:25:14   \n3         4  2018-03-28 18:15:00   \n4         5  2019-09-11 21:15:44   \n...     ...                  ...   \n9995   9996  2020-01-25 01:45:07   \n9996   9997  2019-06-26 12:51:27   \n9997   9998  2019-05-06 10:37:03   \n9998   9999  2019-05-19 12:00:51   \n9999  10000  2019-05-18 17:04:14   \n\n                                                content        username  \\\n0              the Heathrow drone right now <hyperlink>        bbcthree   \n1     A deal at £60m?\\n\\nThe latest on Pierre-Emeric...        BBCSport   \n2     \"Dealing with Boris Johnson is like someone de...     BBCPolitics   \n3     Doesn't unlimited food &amp; drinks all night ...  BrdgstoneArena   \n4     Apple Watch Series 5.\\n\\nYou’ve never seen a w...         BestBuy   \n...                                                 ...             ...   \n9995  \"So what do all these defenses mean? What they...  HouseIntelDems   \n9996  In this week’s #MacroMemo, we explore last wee...      rbcgamnews   \n9997  When it's bank holiday Monday and someone ment...   bbceastenders   \n9998  England boss Gareth Southgate says he is conce...        BBCSport   \n9999  We're back under way in the Women's Champions ...        BBCSport   \n\n                                                  media inferred company  \n0     [Photo(previewUrl='https://pbs.twimg.com/media...              bbc  \n1     [Photo(previewUrl='https://pbs.twimg.com/media...              bbc  \n2     [Video(thumbnailUrl='https://pbs.twimg.com/med...              bbc  \n3     [Photo(previewUrl='https://pbs.twimg.com/media...      bridgestone  \n4     [Video(thumbnailUrl='https://pbs.twimg.com/ext...         best buy  \n...                                                 ...              ...  \n9995  [Video(thumbnailUrl='https://pbs.twimg.com/med...            house  \n9996  [Photo(previewUrl='https://pbs.twimg.com/media...              rbc  \n9997  [Gif(thumbnailUrl='https://pbs.twimg.com/tweet...              bbc  \n9998  [Photo(previewUrl='https://pbs.twimg.com/media...              bbc  \n9999  [Photo(previewUrl='https://pbs.twimg.com/media...              bbc  \n\n[10000 rows x 6 columns]",
            "text/html": "<div>\n<style scoped>\n    .dataframe tbody tr th:only-of-type {\n        vertical-align: middle;\n    }\n\n    .dataframe tbody tr th {\n        vertical-align: top;\n    }\n\n    .dataframe thead th {\n        text-align: right;\n    }\n</style>\n<table border=\"1\" class=\"dataframe\">\n  <thead>\n    <tr style=\"text-align: right;\">\n      <th></th>\n      <th>id</th>\n      <th>date</th>\n      <th>content</th>\n      <th>username</th>\n      <th>media</th>\n      <th>inferred company</th>\n    </tr>\n  </thead>\n  <tbody>\n    <tr>\n      <th>0</th>\n      <td>1</td>\n      <td>2019-01-08 18:03:10</td>\n      <td>the Heathrow drone right now &lt;hyperlink&gt;</td>\n      <td>bbcthree</td>\n      <td>[Photo(previewUrl='https://pbs.twimg.com/media...</td>\n      <td>bbc</td>\n    </tr>\n    <tr>\n      <th>1</th>\n      <td>2</td>\n      <td>2018-01-29 10:51:17</td>\n      <td>A deal at £60m?\\n\\nThe latest on Pierre-Emeric...</td>\n      <td>BBCSport</td>\n      <td>[Photo(previewUrl='https://pbs.twimg.com/media...</td>\n      <td>bbc</td>\n    </tr>\n    <tr>\n      <th>2</th>\n      <td>3</td>\n      <td>2019-09-05 07:25:14</td>\n      <td>\"Dealing with Boris Johnson is like someone de...</td>\n      <td>BBCPolitics</td>\n      <td>[Video(thumbnailUrl='https://pbs.twimg.com/med...</td>\n      <td>bbc</td>\n    </tr>\n    <tr>\n      <th>3</th>\n      <td>4</td>\n      <td>2018-03-28 18:15:00</td>\n      <td>Doesn't unlimited food &amp;amp; drinks all night ...</td>\n      <td>BrdgstoneArena</td>\n      <td>[Photo(previewUrl='https://pbs.twimg.com/media...</td>\n      <td>bridgestone</td>\n    </tr>\n    <tr>\n      <th>4</th>\n      <td>5</td>\n      <td>2019-09-11 21:15:44</td>\n      <td>Apple Watch Series 5.\\n\\nYou’ve never seen a w...</td>\n      <td>BestBuy</td>\n      <td>[Video(thumbnailUrl='https://pbs.twimg.com/ext...</td>\n      <td>best buy</td>\n    </tr>\n    <tr>\n      <th>...</th>\n      <td>...</td>\n      <td>...</td>\n      <td>...</td>\n      <td>...</td>\n      <td>...</td>\n      <td>...</td>\n    </tr>\n    <tr>\n      <th>9995</th>\n      <td>9996</td>\n      <td>2020-01-25 01:45:07</td>\n      <td>\"So what do all these defenses mean? What they...</td>\n      <td>HouseIntelDems</td>\n      <td>[Video(thumbnailUrl='https://pbs.twimg.com/med...</td>\n      <td>house</td>\n    </tr>\n    <tr>\n      <th>9996</th>\n      <td>9997</td>\n      <td>2019-06-26 12:51:27</td>\n      <td>In this week’s #MacroMemo, we explore last wee...</td>\n      <td>rbcgamnews</td>\n      <td>[Photo(previewUrl='https://pbs.twimg.com/media...</td>\n      <td>rbc</td>\n    </tr>\n    <tr>\n      <th>9997</th>\n      <td>9998</td>\n      <td>2019-05-06 10:37:03</td>\n      <td>When it's bank holiday Monday and someone ment...</td>\n      <td>bbceastenders</td>\n      <td>[Gif(thumbnailUrl='https://pbs.twimg.com/tweet...</td>\n      <td>bbc</td>\n    </tr>\n    <tr>\n      <th>9998</th>\n      <td>9999</td>\n      <td>2019-05-19 12:00:51</td>\n      <td>England boss Gareth Southgate says he is conce...</td>\n      <td>BBCSport</td>\n      <td>[Photo(previewUrl='https://pbs.twimg.com/media...</td>\n      <td>bbc</td>\n    </tr>\n    <tr>\n      <th>9999</th>\n      <td>10000</td>\n      <td>2019-05-18 17:04:14</td>\n      <td>We're back under way in the Women's Champions ...</td>\n      <td>BBCSport</td>\n      <td>[Photo(previewUrl='https://pbs.twimg.com/media...</td>\n      <td>bbc</td>\n    </tr>\n  </tbody>\n</table>\n<p>10000 rows × 6 columns</p>\n</div>"
          },
          "metadata": {}
        }
      ]
    },
    {
      "cell_type": "code",
      "source": [
        "text_embeddings_company = np.concatenate([text_embedding_function(test_df2['date']),\n",
        "                                  text_embedding_function(test_df2['username']),\n",
        "                                  text_embedding_function(test_df2['inferred company']),\n",
        "                                  text_embedding_function(test_df2['content'])], axis=1)"
      ],
      "metadata": {
        "execution": {
          "iopub.status.busy": "2023-12-15T16:46:47.501580Z",
          "iopub.execute_input": "2023-12-15T16:46:47.502408Z",
          "iopub.status.idle": "2023-12-15T16:47:09.381334Z",
          "shell.execute_reply.started": "2023-12-15T16:46:47.502374Z",
          "shell.execute_reply": "2023-12-15T16:47:09.380285Z"
        },
        "trusted": true,
        "id": "bkGX6-lydROW"
      },
      "execution_count": null,
      "outputs": []
    },
    {
      "cell_type": "code",
      "source": [
        "X_test_company = input_format(text_embeddings_company)"
      ],
      "metadata": {
        "execution": {
          "iopub.status.busy": "2023-12-15T16:51:12.052312Z",
          "iopub.execute_input": "2023-12-15T16:51:12.052773Z",
          "iopub.status.idle": "2023-12-15T16:51:12.057653Z",
          "shell.execute_reply.started": "2023-12-15T16:51:12.052735Z",
          "shell.execute_reply": "2023-12-15T16:51:12.056452Z"
        },
        "trusted": true,
        "id": "0Ef5m83EdROW"
      },
      "execution_count": null,
      "outputs": []
    },
    {
      "cell_type": "code",
      "source": [
        "y_pred = model.predict(X_test_company)"
      ],
      "metadata": {
        "execution": {
          "iopub.status.busy": "2023-12-15T16:51:15.472122Z",
          "iopub.execute_input": "2023-12-15T16:51:15.472701Z",
          "iopub.status.idle": "2023-12-15T16:51:16.343336Z",
          "shell.execute_reply.started": "2023-12-15T16:51:15.472669Z",
          "shell.execute_reply": "2023-12-15T16:51:16.342525Z"
        },
        "trusted": true,
        "id": "anDPUEM6dROW",
        "outputId": "851f25ee-3a50-48b4-e159-69a4d73c9632"
      },
      "execution_count": null,
      "outputs": [
        {
          "name": "stdout",
          "text": "313/313 [==============================] - 1s 2ms/step\n",
          "output_type": "stream"
        }
      ]
    },
    {
      "cell_type": "code",
      "source": [
        "y_pred=y_pred.reshape(-1)"
      ],
      "metadata": {
        "execution": {
          "iopub.status.busy": "2023-12-15T16:51:23.246489Z",
          "iopub.execute_input": "2023-12-15T16:51:23.247190Z",
          "iopub.status.idle": "2023-12-15T16:51:23.251390Z",
          "shell.execute_reply.started": "2023-12-15T16:51:23.247160Z",
          "shell.execute_reply": "2023-12-15T16:51:23.250258Z"
        },
        "trusted": true,
        "id": "iEUfZ0wrdROW"
      },
      "execution_count": null,
      "outputs": []
    },
    {
      "cell_type": "code",
      "source": [
        "y_pred"
      ],
      "metadata": {
        "execution": {
          "iopub.status.busy": "2023-12-15T16:51:29.621599Z",
          "iopub.execute_input": "2023-12-15T16:51:29.622260Z",
          "iopub.status.idle": "2023-12-15T16:51:29.628977Z",
          "shell.execute_reply.started": "2023-12-15T16:51:29.622227Z",
          "shell.execute_reply": "2023-12-15T16:51:29.628003Z"
        },
        "trusted": true,
        "id": "sfof51FtdROW",
        "outputId": "64a64e94-5946-41fb-d437-b0cb1ba9c27b"
      },
      "execution_count": null,
      "outputs": [
        {
          "execution_count": 90,
          "output_type": "execute_result",
          "data": {
            "text/plain": "array([0.41054586, 0.47821495, 0.3749732 , ..., 0.37888548, 0.7872715 ,\n       1.139032  ], dtype=float32)"
          },
          "metadata": {}
        }
      ]
    },
    {
      "cell_type": "code",
      "source": [
        "# mse=0\n",
        "# idx=0\n",
        "# for i in y_test:\n",
        "#     mse+=(i-y_pred[idx])*(i-y_pred[idx])\n",
        "#     idx+=1\n",
        "# mse=mse/len(y_test)"
      ],
      "metadata": {
        "id": "iDvzh0GVdROW"
      },
      "execution_count": null,
      "outputs": []
    },
    {
      "cell_type": "code",
      "source": [
        "mse"
      ],
      "metadata": {
        "id": "eTxDuzC0dROX"
      },
      "execution_count": null,
      "outputs": []
    }
  ]
}